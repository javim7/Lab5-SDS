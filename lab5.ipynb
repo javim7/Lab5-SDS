{
 "cells": [
  {
   "cell_type": "markdown",
   "metadata": {},
   "source": [
    "### Javier Mombiela\n",
    "### Carnet: 20067\n",
    "\n",
    "#### Laboratorio #5 – Threat hunting\n",
    "\n",
    "#### Parte 1 – Filtrado y preprocesamiento"
   ]
  },
  {
   "cell_type": "code",
   "execution_count": 93,
   "metadata": {},
   "outputs": [],
   "source": [
    "import pandas as pd\n",
    "from clasificador import *"
   ]
  },
  {
   "cell_type": "markdown",
   "metadata": {},
   "source": [
    "2. Cargar la informacion de large_even.json"
   ]
  },
  {
   "cell_type": "code",
   "execution_count": 94,
   "metadata": {},
   "outputs": [
    {
     "name": "stdout",
     "output_type": "stream",
     "text": [
      "Cantidad de registros: 746909\n"
     ]
    }
   ],
   "source": [
    "# Cargar el archivo large_even.json en una lista\n",
    "with open('large_even.json', 'r') as file:\n",
    "    data = [json.loads(line) for line in file]\n",
    "\n",
    "# Mostrar la cantidad total de registros\n",
    "total_registros = len(data)\n",
    "print(f\"Cantidad de registros: {total_registros}\")"
   ]
  },
  {
   "cell_type": "markdown",
   "metadata": {},
   "source": [
    "3. y 4. Cargar solamente DNS y mostrar cantidad"
   ]
  },
  {
   "cell_type": "code",
   "execution_count": 95,
   "metadata": {},
   "outputs": [
    {
     "name": "stdout",
     "output_type": "stream",
     "text": [
      "Cantidad de registros DNS: 15749\n"
     ]
    }
   ],
   "source": [
    "# Filtrar únicamente los registros DNS\n",
    "registros_dns = [registro for registro in data if registro['event_type'] == 'dns']\n",
    "\n",
    "# Mostrar la nueva cantidad de registros filtrados\n",
    "cantidad_registros_dns = len(registros_dns)\n",
    "print(f\"Cantidad de registros DNS: {cantidad_registros_dns}\")"
   ]
  },
  {
   "cell_type": "markdown",
   "metadata": {},
   "source": [
    "5. Mostrar 2 registros"
   ]
  },
  {
   "cell_type": "code",
   "execution_count": 96,
   "metadata": {},
   "outputs": [
    {
     "name": "stdout",
     "output_type": "stream",
     "text": [
      "Registro 1 :\n",
      "{'timestamp': '2017-07-22T17:33:16.661646-0500', 'flow_id': 1327836194150542, 'pcap_cnt': 22269, 'event_type': 'dns', 'vlan': 110, 'src_ip': '2001:0dbb:0c18:0011:0260:6eff:fe30:0863', 'src_port': 59680, 'dest_ip': '2001:0500:0001:0000:0000:0000:803f:0235', 'dest_port': 53, 'proto': 'UDP', 'dns': {'type': 'query', 'id': 15529, 'rrname': 'api.wunderground.com', 'rrtype': 'A', 'tx_id': 0}}\n",
      "\n",
      "Registro 2 :\n",
      "{'timestamp': '2017-07-22T17:33:24.990320-0500', 'flow_id': 2022925111925872, 'pcap_cnt': 54352, 'event_type': 'dns', 'vlan': 110, 'src_ip': '2001:0dbb:0c18:0011:0260:6eff:fe30:0863', 'src_port': 38051, 'dest_ip': '2001:0500:0003:0000:0000:0000:0000:0042', 'dest_port': 53, 'proto': 'UDP', 'dns': {'type': 'query', 'id': 58278, 'rrname': 'stork79.dropbox.com', 'rrtype': 'A', 'tx_id': 0}}\n",
      "\n"
     ]
    }
   ],
   "source": [
    "for i in range(2):\n",
    "    print(\"Registro\", i+1, \":\")\n",
    "    print(registros_dns[i])\n",
    "    print()"
   ]
  },
  {
   "cell_type": "markdown",
   "metadata": {},
   "source": [
    "6. Shape del DNS dataframe"
   ]
  },
  {
   "cell_type": "code",
   "execution_count": 97,
   "metadata": {},
   "outputs": [
    {
     "name": "stdout",
     "output_type": "stream",
     "text": [
      "Shape del DataFrame: (15749, 18)\n"
     ]
    },
    {
     "data": {
      "text/html": [
       "<div>\n",
       "<style scoped>\n",
       "    .dataframe tbody tr th:only-of-type {\n",
       "        vertical-align: middle;\n",
       "    }\n",
       "\n",
       "    .dataframe tbody tr th {\n",
       "        vertical-align: top;\n",
       "    }\n",
       "\n",
       "    .dataframe thead th {\n",
       "        text-align: right;\n",
       "    }\n",
       "</style>\n",
       "<table border=\"1\" class=\"dataframe\">\n",
       "  <thead>\n",
       "    <tr style=\"text-align: right;\">\n",
       "      <th></th>\n",
       "      <th>timestamp</th>\n",
       "      <th>flow_id</th>\n",
       "      <th>pcap_cnt</th>\n",
       "      <th>event_type</th>\n",
       "      <th>vlan</th>\n",
       "      <th>src_ip</th>\n",
       "      <th>src_port</th>\n",
       "      <th>dest_ip</th>\n",
       "      <th>dest_port</th>\n",
       "      <th>proto</th>\n",
       "      <th>dns.type</th>\n",
       "      <th>dns.id</th>\n",
       "      <th>dns.rrname</th>\n",
       "      <th>dns.rrtype</th>\n",
       "      <th>dns.tx_id</th>\n",
       "      <th>dns.rcode</th>\n",
       "      <th>dns.ttl</th>\n",
       "      <th>dns.rdata</th>\n",
       "    </tr>\n",
       "  </thead>\n",
       "  <tbody>\n",
       "    <tr>\n",
       "      <th>0</th>\n",
       "      <td>2017-07-22T17:33:16.661646-0500</td>\n",
       "      <td>1327836194150542</td>\n",
       "      <td>22269</td>\n",
       "      <td>dns</td>\n",
       "      <td>110</td>\n",
       "      <td>2001:0dbb:0c18:0011:0260:6eff:fe30:0863</td>\n",
       "      <td>59680</td>\n",
       "      <td>2001:0500:0001:0000:0000:0000:803f:0235</td>\n",
       "      <td>53</td>\n",
       "      <td>UDP</td>\n",
       "      <td>query</td>\n",
       "      <td>15529</td>\n",
       "      <td>api.wunderground.com</td>\n",
       "      <td>A</td>\n",
       "      <td>0.0</td>\n",
       "      <td>NaN</td>\n",
       "      <td>NaN</td>\n",
       "      <td>NaN</td>\n",
       "    </tr>\n",
       "    <tr>\n",
       "      <th>1</th>\n",
       "      <td>2017-07-22T17:33:24.990320-0500</td>\n",
       "      <td>2022925111925872</td>\n",
       "      <td>54352</td>\n",
       "      <td>dns</td>\n",
       "      <td>110</td>\n",
       "      <td>2001:0dbb:0c18:0011:0260:6eff:fe30:0863</td>\n",
       "      <td>38051</td>\n",
       "      <td>2001:0500:0003:0000:0000:0000:0000:0042</td>\n",
       "      <td>53</td>\n",
       "      <td>UDP</td>\n",
       "      <td>query</td>\n",
       "      <td>58278</td>\n",
       "      <td>stork79.dropbox.com</td>\n",
       "      <td>A</td>\n",
       "      <td>0.0</td>\n",
       "      <td>NaN</td>\n",
       "      <td>NaN</td>\n",
       "      <td>NaN</td>\n",
       "    </tr>\n",
       "    <tr>\n",
       "      <th>2</th>\n",
       "      <td>2017-07-22T17:33:27.379891-0500</td>\n",
       "      <td>578544790391795</td>\n",
       "      <td>54519</td>\n",
       "      <td>dns</td>\n",
       "      <td>150</td>\n",
       "      <td>192.168.205.170</td>\n",
       "      <td>31393</td>\n",
       "      <td>192.168.207.4</td>\n",
       "      <td>53</td>\n",
       "      <td>UDP</td>\n",
       "      <td>query</td>\n",
       "      <td>54724</td>\n",
       "      <td>hpca-tier2.office.aol.com.ad.aol.aoltw.net</td>\n",
       "      <td>A</td>\n",
       "      <td>0.0</td>\n",
       "      <td>NaN</td>\n",
       "      <td>NaN</td>\n",
       "      <td>NaN</td>\n",
       "    </tr>\n",
       "    <tr>\n",
       "      <th>3</th>\n",
       "      <td>2017-07-22T17:33:27.380146-0500</td>\n",
       "      <td>578544790391795</td>\n",
       "      <td>54520</td>\n",
       "      <td>dns</td>\n",
       "      <td>150</td>\n",
       "      <td>192.168.207.4</td>\n",
       "      <td>53</td>\n",
       "      <td>192.168.205.170</td>\n",
       "      <td>31393</td>\n",
       "      <td>UDP</td>\n",
       "      <td>answer</td>\n",
       "      <td>54724</td>\n",
       "      <td>hpca-tier2.office.aol.com.ad.aol.aoltw.net</td>\n",
       "      <td>NaN</td>\n",
       "      <td>NaN</td>\n",
       "      <td>NXDOMAIN</td>\n",
       "      <td>NaN</td>\n",
       "      <td>NaN</td>\n",
       "    </tr>\n",
       "    <tr>\n",
       "      <th>4</th>\n",
       "      <td>2017-07-22T17:33:27.380146-0500</td>\n",
       "      <td>578544790391795</td>\n",
       "      <td>54520</td>\n",
       "      <td>dns</td>\n",
       "      <td>150</td>\n",
       "      <td>192.168.207.4</td>\n",
       "      <td>53</td>\n",
       "      <td>192.168.205.170</td>\n",
       "      <td>31393</td>\n",
       "      <td>UDP</td>\n",
       "      <td>answer</td>\n",
       "      <td>54724</td>\n",
       "      <td>&lt;root&gt;</td>\n",
       "      <td>SOA</td>\n",
       "      <td>NaN</td>\n",
       "      <td>NXDOMAIN</td>\n",
       "      <td>20864.0</td>\n",
       "      <td>NaN</td>\n",
       "    </tr>\n",
       "  </tbody>\n",
       "</table>\n",
       "</div>"
      ],
      "text/plain": [
       "                         timestamp           flow_id  pcap_cnt event_type  \\\n",
       "0  2017-07-22T17:33:16.661646-0500  1327836194150542     22269        dns   \n",
       "1  2017-07-22T17:33:24.990320-0500  2022925111925872     54352        dns   \n",
       "2  2017-07-22T17:33:27.379891-0500   578544790391795     54519        dns   \n",
       "3  2017-07-22T17:33:27.380146-0500   578544790391795     54520        dns   \n",
       "4  2017-07-22T17:33:27.380146-0500   578544790391795     54520        dns   \n",
       "\n",
       "   vlan                                   src_ip  src_port  \\\n",
       "0   110  2001:0dbb:0c18:0011:0260:6eff:fe30:0863     59680   \n",
       "1   110  2001:0dbb:0c18:0011:0260:6eff:fe30:0863     38051   \n",
       "2   150                          192.168.205.170     31393   \n",
       "3   150                            192.168.207.4        53   \n",
       "4   150                            192.168.207.4        53   \n",
       "\n",
       "                                   dest_ip  dest_port proto dns.type  dns.id  \\\n",
       "0  2001:0500:0001:0000:0000:0000:803f:0235         53   UDP    query   15529   \n",
       "1  2001:0500:0003:0000:0000:0000:0000:0042         53   UDP    query   58278   \n",
       "2                            192.168.207.4         53   UDP    query   54724   \n",
       "3                          192.168.205.170      31393   UDP   answer   54724   \n",
       "4                          192.168.205.170      31393   UDP   answer   54724   \n",
       "\n",
       "                                   dns.rrname dns.rrtype  dns.tx_id dns.rcode  \\\n",
       "0                        api.wunderground.com          A        0.0       NaN   \n",
       "1                         stork79.dropbox.com          A        0.0       NaN   \n",
       "2  hpca-tier2.office.aol.com.ad.aol.aoltw.net          A        0.0       NaN   \n",
       "3  hpca-tier2.office.aol.com.ad.aol.aoltw.net        NaN        NaN  NXDOMAIN   \n",
       "4                                      <root>        SOA        NaN  NXDOMAIN   \n",
       "\n",
       "   dns.ttl dns.rdata  \n",
       "0      NaN       NaN  \n",
       "1      NaN       NaN  \n",
       "2      NaN       NaN  \n",
       "3      NaN       NaN  \n",
       "4  20864.0       NaN  "
      ]
     },
     "execution_count": 97,
     "metadata": {},
     "output_type": "execute_result"
    }
   ],
   "source": [
    "# Normalizar la lista de registros DNS y convertirla en un DataFrame\n",
    "df_dns = pd.json_normalize(registros_dns)\n",
    "\n",
    "# Mostrar el shape del DataFrame\n",
    "print(f\"Shape del DataFrame: {df_dns.shape}\")\n",
    "df_dns.head()"
   ]
  },
  {
   "cell_type": "markdown",
   "metadata": {},
   "source": [
    "7. Filtrar por DNS Tipo A"
   ]
  },
  {
   "cell_type": "code",
   "execution_count": 98,
   "metadata": {},
   "outputs": [
    {
     "name": "stdout",
     "output_type": "stream",
     "text": [
      "Cantidad de registros DNS tipo A: 2849\n"
     ]
    }
   ],
   "source": [
    "# Filtrar DNS tipo A\n",
    "registros_dns_A = df_dns[df_dns['dns.rrtype'] == 'A']\n",
    "\n",
    "# Mostrar la cantidad de registros DNS tipo A\n",
    "cantidad_registros_dns_A = len(registros_dns_A)\n",
    "print(f\"Cantidad de registros DNS tipo A: {cantidad_registros_dns_A}\")"
   ]
  },
  {
   "cell_type": "markdown",
   "metadata": {},
   "source": [
    "8. Filtrar dominios unicos"
   ]
  },
  {
   "cell_type": "code",
   "execution_count": 99,
   "metadata": {},
   "outputs": [
    {
     "name": "stdout",
     "output_type": "stream",
     "text": [
      "Cantidad de dominios únicos: 177\n"
     ]
    }
   ],
   "source": [
    "# Filtrar los dominios únicos\n",
    "dominios_unicos = registros_dns_A['dns.rrname'].unique()\n",
    "\n",
    "# Mostrar la cantidad de dominios únicos\n",
    "cantidad_dominios_unicos = len(dominios_unicos)\n",
    "print(f\"Cantidad de dominios únicos: {cantidad_dominios_unicos}\")"
   ]
  },
  {
   "cell_type": "markdown",
   "metadata": {},
   "source": [
    "9. Obtener TLD de dominios\n",
    "\n",
    "Prompt utilizado: \"Hola me podrias ayudar a escribir una funcion en python para obtener el TLD de un dominio por favor. Aca te dejo unos ejemplos para que te puedas guiar: Por ejemplo, para api.wunderground.com el TLD es wunderground.com, para safebrowsing.clients.google.com.home, el TLD es home\""
   ]
  },
  {
   "cell_type": "code",
   "execution_count": 100,
   "metadata": {},
   "outputs": [],
   "source": [
    "import tldextract\n",
    "\n",
    "def obtener_tld(dominio):\n",
    "    # Extrae el TLD utilizando tldextract\n",
    "    resultado = tldextract.extract(dominio)\n",
    "    tld = resultado.domain\n",
    "    \n",
    "    if resultado.suffix:\n",
    "        tld += '.' + resultado.suffix\n",
    "\n",
    "    return tld"
   ]
  },
  {
   "cell_type": "code",
   "execution_count": 101,
   "metadata": {},
   "outputs": [
    {
     "name": "stdout",
     "output_type": "stream",
     "text": [
      "wunderground.com\n",
      "home\n"
     ]
    }
   ],
   "source": [
    "# Ejemplos de uso\n",
    "print(obtener_tld(\"api.wunderground.com\"))  \n",
    "print(obtener_tld(\"safebrowsing.clients.google.com.home\")) "
   ]
  },
  {
   "cell_type": "markdown",
   "metadata": {},
   "source": [
    "10. Obtener el TLD de dominios unicos"
   ]
  },
  {
   "cell_type": "code",
   "execution_count": 102,
   "metadata": {},
   "outputs": [
    {
     "data": {
      "text/html": [
       "<div>\n",
       "<style scoped>\n",
       "    .dataframe tbody tr th:only-of-type {\n",
       "        vertical-align: middle;\n",
       "    }\n",
       "\n",
       "    .dataframe tbody tr th {\n",
       "        vertical-align: top;\n",
       "    }\n",
       "\n",
       "    .dataframe thead th {\n",
       "        text-align: right;\n",
       "    }\n",
       "</style>\n",
       "<table border=\"1\" class=\"dataframe\">\n",
       "  <thead>\n",
       "    <tr style=\"text-align: right;\">\n",
       "      <th></th>\n",
       "      <th>domain_tld</th>\n",
       "    </tr>\n",
       "  </thead>\n",
       "  <tbody>\n",
       "    <tr>\n",
       "      <th>0</th>\n",
       "      <td>wunderground.com</td>\n",
       "    </tr>\n",
       "    <tr>\n",
       "      <th>1</th>\n",
       "      <td>dropbox.com</td>\n",
       "    </tr>\n",
       "    <tr>\n",
       "      <th>2</th>\n",
       "      <td>aoltw.net</td>\n",
       "    </tr>\n",
       "    <tr>\n",
       "      <th>3</th>\n",
       "      <td>home</td>\n",
       "    </tr>\n",
       "    <tr>\n",
       "      <th>4</th>\n",
       "      <td>mozilla.com</td>\n",
       "    </tr>\n",
       "    <tr>\n",
       "      <th>5</th>\n",
       "      <td>metasploit.com</td>\n",
       "    </tr>\n",
       "    <tr>\n",
       "      <th>6</th>\n",
       "      <td>aol.com</td>\n",
       "    </tr>\n",
       "    <tr>\n",
       "      <th>7</th>\n",
       "      <td>aoltw.net</td>\n",
       "    </tr>\n",
       "    <tr>\n",
       "      <th>8</th>\n",
       "      <td>aol.com</td>\n",
       "    </tr>\n",
       "    <tr>\n",
       "      <th>9</th>\n",
       "      <td>aol.com</td>\n",
       "    </tr>\n",
       "  </tbody>\n",
       "</table>\n",
       "</div>"
      ],
      "text/plain": [
       "         domain_tld\n",
       "0  wunderground.com\n",
       "1       dropbox.com\n",
       "2         aoltw.net\n",
       "3              home\n",
       "4       mozilla.com\n",
       "5    metasploit.com\n",
       "6           aol.com\n",
       "7         aoltw.net\n",
       "8           aol.com\n",
       "9           aol.com"
      ]
     },
     "execution_count": 102,
     "metadata": {},
     "output_type": "execute_result"
    }
   ],
   "source": [
    "tlds = [obtener_tld(dominio) for dominio in dominios_unicos]\n",
    "\n",
    "tlds_df = pd.DataFrame(tlds, columns=['domain_tld'])\n",
    "tlds_df.head(10)"
   ]
  },
  {
   "cell_type": "markdown",
   "metadata": {},
   "source": [
    "#### Parte 2 – Data Science\n",
    "\n",
    "11. Utilizar el clasificador para asignar el resultado a un nuevo dataframe"
   ]
  },
  {
   "cell_type": "code",
   "execution_count": 103,
   "metadata": {},
   "outputs": [
    {
     "name": "stderr",
     "output_type": "stream",
     "text": [
      "c:\\Users\\rjmom\\AppData\\Local\\Programs\\Python\\Python311\\Lib\\site-packages\\sklearn\\base.py:299: UserWarning: Trying to unpickle estimator DecisionTreeClassifier from version 1.0.2 when using version 1.2.1. This might lead to breaking code or invalid results. Use at your own risk. For more info please refer to:\n",
      "https://scikit-learn.org/stable/model_persistence.html#security-maintainability-limitations\n",
      "  warnings.warn(\n"
     ]
    },
    {
     "data": {
      "text/html": [
       "<div>\n",
       "<style scoped>\n",
       "    .dataframe tbody tr th:only-of-type {\n",
       "        vertical-align: middle;\n",
       "    }\n",
       "\n",
       "    .dataframe tbody tr th {\n",
       "        vertical-align: top;\n",
       "    }\n",
       "\n",
       "    .dataframe thead th {\n",
       "        text-align: right;\n",
       "    }\n",
       "</style>\n",
       "<table border=\"1\" class=\"dataframe\">\n",
       "  <thead>\n",
       "    <tr style=\"text-align: right;\">\n",
       "      <th></th>\n",
       "      <th>domain_tld</th>\n",
       "      <th>isDGA</th>\n",
       "    </tr>\n",
       "  </thead>\n",
       "  <tbody>\n",
       "    <tr>\n",
       "      <th>0</th>\n",
       "      <td>wunderground.com</td>\n",
       "      <td>0</td>\n",
       "    </tr>\n",
       "    <tr>\n",
       "      <th>1</th>\n",
       "      <td>dropbox.com</td>\n",
       "      <td>1</td>\n",
       "    </tr>\n",
       "    <tr>\n",
       "      <th>2</th>\n",
       "      <td>aoltw.net</td>\n",
       "      <td>1</td>\n",
       "    </tr>\n",
       "    <tr>\n",
       "      <th>3</th>\n",
       "      <td>home</td>\n",
       "      <td>0</td>\n",
       "    </tr>\n",
       "    <tr>\n",
       "      <th>4</th>\n",
       "      <td>mozilla.com</td>\n",
       "      <td>0</td>\n",
       "    </tr>\n",
       "  </tbody>\n",
       "</table>\n",
       "</div>"
      ],
      "text/plain": [
       "         domain_tld  isDGA\n",
       "0  wunderground.com      0\n",
       "1       dropbox.com      1\n",
       "2         aoltw.net      1\n",
       "3              home      0\n",
       "4       mozilla.com      0"
      ]
     },
     "execution_count": 103,
     "metadata": {},
     "output_type": "execute_result"
    }
   ],
   "source": [
    "df = clasificacion(tlds_df)\n",
    "df.head()"
   ]
  },
  {
   "cell_type": "markdown",
   "metadata": {},
   "source": [
    "12. Filtrar DGAs == 1"
   ]
  },
  {
   "cell_type": "code",
   "execution_count": 104,
   "metadata": {},
   "outputs": [
    {
     "name": "stdout",
     "output_type": "stream",
     "text": [
      "Dominios considerados como DGA:\n",
      "               domain_tld  isDGA\n",
      "1             dropbox.com      1\n",
      "2               aoltw.net      1\n",
      "5          metasploit.com      1\n",
      "7               aoltw.net      1\n",
      "10              aoltw.net      1\n",
      "15              aoltw.net      1\n",
      "18          110phpmyadmin      1\n",
      "25            windows.com      1\n",
      "27          ntkrnlpa.info      1\n",
      "32              aoltw.net      1\n",
      "34         sql-ledger.org      1\n",
      "35    backtrack-linux.org      1\n",
      "40              aoltw.net      1\n",
      "41              aoltw.net      1\n",
      "42              aoltw.net      1\n",
      "45              aoltw.net      1\n",
      "47              aoltw.net      1\n",
      "48         phpmyadmin.net      1\n",
      "51          microsoft.com      1\n",
      "53              aoltw.net      1\n",
      "56              aoltw.net      1\n",
      "60         postgresql.org      1\n",
      "62            freepbx.org      1\n",
      "64      bigflickrfeed.com      1\n",
      "72            freepbx.org      1\n",
      "75          microsoft.com      1\n",
      "77          microsoft.com      1\n",
      "78             flickr.com      1\n",
      "80          microsoft.com      1\n",
      "82        malwarecity.com      1\n",
      "83           facebook.com      1\n",
      "87             xmarks.com      1\n",
      "89            cakephp.org      1\n",
      "92              adams.net      1\n",
      "95           clarkson.edu      1\n",
      "97              ecvps.com      1\n",
      "98               wisc.edu      1\n",
      "100          easynews.com      1\n",
      "101          bluehost.com      1\n",
      "106            kernel.org      1\n",
      "108         liquidweb.com      1\n",
      "114        team-cymru.org      1\n",
      "117          xmission.com      1\n",
      "127             apple.com      1\n",
      "128             apple.com      1\n",
      "129            xmarks.com      1\n",
      "134             aoltw.net      1\n",
      "138             apple.com      1\n",
      "140             apple.com      1\n",
      "144          msftncsi.com      1\n",
      "147          msftncsi.com      1\n",
      "150         microsoft.com      1\n",
      "160  vtlfccmfxlkgifuf.com      1\n",
      "161             aoltw.net      1\n",
      "162        macromates.com      1\n",
      "167  ejfodfmfxlkgifuf.xyz      1\n",
      "169        192.168.22.201      1\n",
      "171             aoltw.net      1\n",
      "173         microsoft.com      1\n",
      "175        192.168.22.201      1\n",
      "176              real.com      1\n"
     ]
    }
   ],
   "source": [
    "# Filtrar los dominios considerados como DGA\n",
    "df_dga = df[df['isDGA'] == 1]\n",
    "\n",
    "# Mostrar los dominios DGA\n",
    "print(\"Dominios considerados como DGA:\")\n",
    "print(df_dga)\n"
   ]
  },
  {
   "cell_type": "code",
   "execution_count": 105,
   "metadata": {},
   "outputs": [
    {
     "name": "stdout",
     "output_type": "stream",
     "text": [
      "\n",
      "Cantidad de registros únicos de dominios DGA: 35\n"
     ]
    }
   ],
   "source": [
    "# Eliminar duplicados y obtener los registros únicos\n",
    "df_dga_unicos = df_dga.drop_duplicates(subset=['domain_tld'])\n",
    "\n",
    "# Mostrar la cantidad de registros únicos\n",
    "cantidad_registros_unicos_dga = df_dga_unicos.shape[0]\n",
    "print(\"\\nCantidad de registros únicos de dominios DGA:\", cantidad_registros_unicos_dga)"
   ]
  },
  {
   "cell_type": "markdown",
   "metadata": {},
   "source": [
    "#### Parte 3 – Dominio experto\n",
    "\n",
    "13. Funcion para revisar TLD\n",
    "\n",
    "Prompt utilizado: \"Hola utilizando el archivo .csv 'top-1m.csv' me podrias ayudar a crear una funcion en python que utilice la lista de dicho archivo y devuelva 0 si el TLD de mi dataframe df_dga_unicos se encuentra en la lista y 1 si no esta por favor\" (le pego el formato del top-1m.csv y del head de mi dataframe)"
   ]
  },
  {
   "cell_type": "code",
   "execution_count": 106,
   "metadata": {},
   "outputs": [],
   "source": [
    "def dominio_experto(tld):\n",
    "    # Cargar la lista de un millón de TLDs\n",
    "    df_top_1m = pd.read_csv('top-1m.csv', header=None, names=['ranking', 'domain'])\n",
    "\n",
    "    # Extraer los TLDs de la lista\n",
    "    tlds_lista = set(df_top_1m['domain'])\n",
    "\n",
    "    if tld in tlds_lista:\n",
    "        return 0\n",
    "    else:\n",
    "        return 1"
   ]
  },
  {
   "cell_type": "code",
   "execution_count": 107,
   "metadata": {},
   "outputs": [
    {
     "name": "stdout",
     "output_type": "stream",
     "text": [
      "0\n",
      "1\n"
     ]
    }
   ],
   "source": [
    "# Ejemplo de uso\n",
    "resultado = dominio_experto('google.com')\n",
    "print(resultado)  # Output: 0 (Google.com está en la lista)\n",
    "\n",
    "resultado = dominio_experto('money1.com')\n",
    "print(resultado)  # Output: 1 (money1.com no está en la lista)"
   ]
  },
  {
   "cell_type": "markdown",
   "metadata": {},
   "source": [
    "14. Determinar si los DGA unicas estan en la lista"
   ]
  },
  {
   "cell_type": "code",
   "execution_count": 108,
   "metadata": {},
   "outputs": [
    {
     "name": "stderr",
     "output_type": "stream",
     "text": [
      "C:\\Users\\rjmom\\AppData\\Local\\Temp\\ipykernel_14776\\969752244.py:2: SettingWithCopyWarning: \n",
      "A value is trying to be set on a copy of a slice from a DataFrame.\n",
      "Try using .loc[row_indexer,col_indexer] = value instead\n",
      "\n",
      "See the caveats in the documentation: https://pandas.pydata.org/pandas-docs/stable/user_guide/indexing.html#returning-a-view-versus-a-copy\n",
      "  df_dga_unicos['sospechoso'] = df_dga_unicos['domain_tld'].apply(dominio_experto)\n"
     ]
    },
    {
     "data": {
      "text/html": [
       "<div>\n",
       "<style scoped>\n",
       "    .dataframe tbody tr th:only-of-type {\n",
       "        vertical-align: middle;\n",
       "    }\n",
       "\n",
       "    .dataframe tbody tr th {\n",
       "        vertical-align: top;\n",
       "    }\n",
       "\n",
       "    .dataframe thead th {\n",
       "        text-align: right;\n",
       "    }\n",
       "</style>\n",
       "<table border=\"1\" class=\"dataframe\">\n",
       "  <thead>\n",
       "    <tr style=\"text-align: right;\">\n",
       "      <th></th>\n",
       "      <th>domain_tld</th>\n",
       "      <th>isDGA</th>\n",
       "      <th>sospechoso</th>\n",
       "    </tr>\n",
       "  </thead>\n",
       "  <tbody>\n",
       "    <tr>\n",
       "      <th>1</th>\n",
       "      <td>dropbox.com</td>\n",
       "      <td>1</td>\n",
       "      <td>0</td>\n",
       "    </tr>\n",
       "    <tr>\n",
       "      <th>2</th>\n",
       "      <td>aoltw.net</td>\n",
       "      <td>1</td>\n",
       "      <td>1</td>\n",
       "    </tr>\n",
       "    <tr>\n",
       "      <th>5</th>\n",
       "      <td>metasploit.com</td>\n",
       "      <td>1</td>\n",
       "      <td>0</td>\n",
       "    </tr>\n",
       "    <tr>\n",
       "      <th>18</th>\n",
       "      <td>110phpmyadmin</td>\n",
       "      <td>1</td>\n",
       "      <td>1</td>\n",
       "    </tr>\n",
       "    <tr>\n",
       "      <th>25</th>\n",
       "      <td>windows.com</td>\n",
       "      <td>1</td>\n",
       "      <td>0</td>\n",
       "    </tr>\n",
       "  </tbody>\n",
       "</table>\n",
       "</div>"
      ],
      "text/plain": [
       "        domain_tld  isDGA  sospechoso\n",
       "1      dropbox.com      1           0\n",
       "2        aoltw.net      1           1\n",
       "5   metasploit.com      1           0\n",
       "18   110phpmyadmin      1           1\n",
       "25     windows.com      1           0"
      ]
     },
     "execution_count": 108,
     "metadata": {},
     "output_type": "execute_result"
    }
   ],
   "source": [
    "# Crear una nueva columna en df_dga_unicos para almacenar los resultados de la función dominio_experto\n",
    "df_dga_unicos['sospechoso'] = df_dga_unicos['domain_tld'].apply(dominio_experto)\n",
    "\n",
    "df_dga_unicos.head()"
   ]
  },
  {
   "cell_type": "code",
   "execution_count": 109,
   "metadata": {},
   "outputs": [
    {
     "name": "stdout",
     "output_type": "stream",
     "text": [
      "Cantidad de registros únicos de dominios DGA que se encuentran en la lista: 13\n"
     ]
    }
   ],
   "source": [
    "# Filtrar aquellos dominios que se encuentran en la lista proporcionada\n",
    "dgas_sospechosos = df_dga_unicos[df_dga_unicos['sospechoso'] == 1]\n",
    "\n",
    "# Eliminar duplicados y obtener los registros únicos\n",
    "dgas_sospechosos_unicos = dgas_sospechosos.drop_duplicates(subset=['domain_tld'])\n",
    "\n",
    "# Mostrar la cantidad de registros únicos\n",
    "cantidad_registros_unicos_en_lista = dgas_sospechosos_unicos.shape[0]\n",
    "print(f\"Cantidad de registros únicos de dominios DGA que se encuentran en la lista: {cantidad_registros_unicos_en_lista}\")"
   ]
  },
  {
   "cell_type": "code",
   "execution_count": 110,
   "metadata": {},
   "outputs": [
    {
     "name": "stdout",
     "output_type": "stream",
     "text": [
      "               domain_tld  sospechoso\n",
      "2               aoltw.net           1\n",
      "18          110phpmyadmin           1\n",
      "27          ntkrnlpa.info           1\n",
      "34         sql-ledger.org           1\n",
      "35    backtrack-linux.org           1\n",
      "64      bigflickrfeed.com           1\n",
      "82        malwarecity.com           1\n",
      "89            cakephp.org           1\n",
      "97              ecvps.com           1\n",
      "160  vtlfccmfxlkgifuf.com           1\n",
      "162        macromates.com           1\n",
      "167  ejfodfmfxlkgifuf.xyz           1\n",
      "169        192.168.22.201           1\n"
     ]
    }
   ],
   "source": [
    "print(dgas_sospechosos_unicos[['domain_tld', 'sospechoso']])"
   ]
  },
  {
   "cell_type": "markdown",
   "metadata": {},
   "source": [
    "15. Funcion para buscar fecha de creacion del TLD\n",
    "\n",
    "Prompt utilizado: \"Hola, dados los siguientes dgas sospechosos, me podrias ayudar a crear una funcion que en base al TLD, me devuelva la fecha de creacion de dicho dga por favor.\" (le pego la lista de los 13 dgas)"
   ]
  },
  {
   "cell_type": "code",
   "execution_count": 111,
   "metadata": {},
   "outputs": [],
   "source": [
    "import pythonwhois\n",
    "\n",
    "def obtener_fecha_creacion(dominio):\n",
    "    try:\n",
    "        detalles = pythonwhois.get_whois(dominio)\n",
    "        fecha_creacion = detalles['creation_date']\n",
    "        if fecha_creacion:\n",
    "            # Formatear la fecha a un formato más legible\n",
    "            fecha_formateada = fecha_creacion[0].strftime('%d-%m-%Y %H:%M:%S')\n",
    "            return fecha_formateada\n",
    "        else:\n",
    "            return None\n",
    "    except Exception as e:\n",
    "        # print(f\"No se pudo obtener la información de {dominio}: {e}\")\n",
    "        return None"
   ]
  },
  {
   "cell_type": "code",
   "execution_count": 112,
   "metadata": {},
   "outputs": [
    {
     "name": "stdout",
     "output_type": "stream",
     "text": [
      "15-09-1997 04:00:00\n",
      "10-01-2000 04:09:19\n"
     ]
    }
   ],
   "source": [
    "# Ejemplos de uso\n",
    "print(obtener_fecha_creacion(\"google.com\"))\n",
    "print(obtener_fecha_creacion(\"aoltw.net\"))"
   ]
  },
  {
   "cell_type": "markdown",
   "metadata": {},
   "source": [
    "16. Mostrar la fecha de creacion de los 13 dominios finales"
   ]
  },
  {
   "cell_type": "code",
   "execution_count": 113,
   "metadata": {},
   "outputs": [
    {
     "name": "stdout",
     "output_type": "stream",
     "text": [
      "               domain_tld  sospechoso       fecha_creacion\n",
      "2               aoltw.net           1  10-01-2000 04:09:19\n",
      "18          110phpmyadmin           1                 None\n",
      "27          ntkrnlpa.info           1  27-06-2023 08:18:55\n",
      "34         sql-ledger.org           1  08-09-2000 16:25:09\n",
      "35    backtrack-linux.org           1  29-04-2009 00:26:42\n",
      "64      bigflickrfeed.com           1                 None\n",
      "82        malwarecity.com           1  06-02-2008 15:42:35\n",
      "89            cakephp.org           1  13-06-2005 23:07:32\n",
      "97              ecvps.com           1  21-05-2009 14:24:02\n",
      "160  vtlfccmfxlkgifuf.com           1                 None\n",
      "162        macromates.com           1  05-02-2003 00:25:14\n",
      "167  ejfodfmfxlkgifuf.xyz           1                 None\n",
      "169        192.168.22.201           1                 None\n"
     ]
    }
   ],
   "source": [
    "# mostrar la fecha de creación de los dominios sospechosos\n",
    "dgas_sospechosos_unicos['fecha_creacion'] = dgas_sospechosos_unicos['domain_tld'].apply(obtener_fecha_creacion)\n",
    "\n",
    "print(dgas_sospechosos_unicos[['domain_tld', 'sospechoso', 'fecha_creacion']])"
   ]
  },
  {
   "cell_type": "markdown",
   "metadata": {},
   "source": [
    "Este listado final, el cual incluye los ultimos 13 dominios sospechocos con sus fechas, nos puede ayudar bastante a determinar cuales dominios si son sospechosos. Al ver la fecha, sabemos que una fecha antigua significa que si es una empresa reconocida y legitima, por lo que podemos descartar dichos dominios como sospechosos. Los dominios que tienen fecha reciente o no tienen fechas, pueden ser categorizados como sospechosos y estos incluyen los siguientes dominios:\n",
    "\n",
    "- 110phpmyadmin\n",
    "- ntkrnlpa.info\n",
    "- bigflickrfeed.com\n",
    "- vtlfccmfxlkgifuf.com\n",
    "- ejfodfmfxlkgifuf.xy\n",
    "- 192.168.22.201\n",
    "\n",
    "17. Dominios con patrones aleatorios\n",
    "\n",
    "En el inciso anterior logramos descartar 7 dominios como sospechosos, lo que nos deja con 6 sospechosos, los cuales estan listados arriba. Al ver el nombre de estos 6 sospechosos podemos ver que hay 2 que sobresalen, ya que son patrones aleatorios sin ningun sentido y por lo tanto podemos identificar que estos son los 2 dominions sospechosos del dataset.\n",
    "\n",
    "- vtlfccmfxlkgifuf.com\n",
    "- ejfodfmfxlkgifuf.xy"
   ]
  }
 ],
 "metadata": {
  "kernelspec": {
   "display_name": "Python 3",
   "language": "python",
   "name": "python3"
  },
  "language_info": {
   "codemirror_mode": {
    "name": "ipython",
    "version": 3
   },
   "file_extension": ".py",
   "mimetype": "text/x-python",
   "name": "python",
   "nbconvert_exporter": "python",
   "pygments_lexer": "ipython3",
   "version": "3.11.5"
  }
 },
 "nbformat": 4,
 "nbformat_minor": 2
}
